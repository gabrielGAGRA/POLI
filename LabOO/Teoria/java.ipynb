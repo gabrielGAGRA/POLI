{
 "cells": [
  {
   "cell_type": "markdown",
   "metadata": {},
   "source": [
    "1. Declaração de Classe:  \n",
    "Classes em Java são declaradas usando a palavra-chave `class` seguida pelo nome da classe.\n",
    "\n",
    "2. Método Principal (Main):  \n",
    "O método principal é o ponto de entrada de qualquer aplicação Java. Ele deve ser `public`, `static` e ter o tipo de retorno `void`. Ele recebe um único parâmetro: um array de objetos `String[] args`.\n",
    "\n",
    "3. Imprimindo no Console:  \n",
    "Use `System.out.println` para imprimir texto no console."
   ]
  },
  {
   "cell_type": "code",
   "execution_count": null,
   "metadata": {
    "vscode": {
     "languageId": "javascript"
    }
   },
   "outputs": [],
   "source": [
    "public class Veiculo{\n",
    "    private int anoDeFabricacao;\n",
    "    private String modelo;\n",
    "\n",
    "    //Construtor\n",
    "    Veiculo (int adf, string m){\n",
    "        anoDeFabricacao = adf;\n",
    "        modelo = m;\n",
    "    }\n",
    "\n",
    "    //Altera parametros\n",
    "    public void setAnoDeFabricacao(int adf){\n",
    "        #this referencia ao proprio objet chamado na funcao, como o self\n",
    "        this.anoDeFabricacao = adf;\n",
    "    }\n",
    "    \n",
    "}"
   ]
  },
  {
   "cell_type": "code",
   "execution_count": null,
   "metadata": {
    "vscode": {
     "languageId": "javascript"
    }
   },
   "outputs": [],
   "source": [
    "//extends indica heranca, carro eh uma subclasse de veiculo (herdada, com atributos extras)\n",
    "public class Carro extends Veiculo{\n",
    "    private int cilindradas;\n",
    "    private boolean airbag;\n",
    "\n",
    "    public String toString(){\n",
    "        return (\"Fabricado em \" + getAnoDeFabricacao() + \"com\" + cilindradas + airbag);\n",
    "    }\n",
    "\n",
    "    public static void main(){\n",
    "    Carro Ford = new Carro(1910, \"Ford\", 2900, 1)\n",
    "}\n",
    "}"
   ]
  },
  {
   "cell_type": "code",
   "execution_count": null,
   "metadata": {
    "vscode": {
     "languageId": "plaintext"
    }
   },
   "outputs": [],
   "source": []
  }
 ],
 "metadata": {
  "language_info": {
   "name": "python"
  }
 },
 "nbformat": 4,
 "nbformat_minor": 2
}
