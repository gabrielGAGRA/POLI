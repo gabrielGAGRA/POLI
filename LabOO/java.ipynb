{
 "cells": [
  {
   "cell_type": "markdown",
   "metadata": {},
   "source": [
    "Java Structure:\n",
    "Class Declaration:\n",
    "\n",
    "Classes in Java are declared using the class keyword followed by the class name.\n",
    "Main Method:\n",
    "\n",
    "The main method is the entry point of any Java application. It must be public, static, and have a void return type. It takes a single parameter: an array of String objects.\n",
    "Printing to Console:\n",
    "\n",
    "Use System.out.println to print text to the console.\n",
    "\n",
    "1. Class Name:\n",
    "Java class names should start with an uppercase letter. \n",
    "\n",
    "Main Method Signature:\n",
    "The main method should have the signature: public static void main(String[] args).\n",
    "Added void to indicate the return type of the main method.\n",
    "\n",
    "String Array Parameter:\n",
    "\n",
    "The parameter for the main method should be String[] args\n",
    "\n",
    "System.out.println is the correct method to print a line of text to the console."
   ]
  }
 ],
 "metadata": {
  "language_info": {
   "name": "python"
  }
 },
 "nbformat": 4,
 "nbformat_minor": 2
}
